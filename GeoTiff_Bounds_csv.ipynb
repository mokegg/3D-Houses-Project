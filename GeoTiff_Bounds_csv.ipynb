{
 "cells": [
  {
   "cell_type": "code",
   "execution_count": 51,
   "id": "dc02e0e9-a881-4cbe-9874-4469aa947375",
   "metadata": {},
   "outputs": [],
   "source": [
    "import numpy as np\n",
    "import rasterio\n",
    "from rasterio.plot import show\n",
    "from matplotlib import pyplot as plt\n",
    "import os\n",
    "\n",
    "    \n",
    "    "
   ]
  },
  {
   "cell_type": "code",
   "execution_count": 52,
   "id": "6309f157-34d5-4c7e-b5a0-cf88f989b797",
   "metadata": {},
   "outputs": [
    {
     "name": "stdout",
     "output_type": "stream",
     "text": [
      "01\n"
     ]
    }
   ],
   "source": [
    "bound_data = []\n",
    "num_files = [\"%.2d\" % (i+1) for i in range(1)]\n",
    "for i in num_files:\n",
    "    with rasterio.open(f'zip+https://downloadagiv.blob.core.windows.net/dhm-vlaanderen-ii-dsm-raster-1m/DHMVIIDSMRAS1m_k{i}.zip!/GeoTIFF/DHMVIIDSMRAS1m_k{i}.tif') as src:\n",
    "        bound_data.append ([i, src.bounds])\n",
    "    print(i)\n",
    "        \n",
    "    \n",
    "    "
   ]
  },
  {
   "cell_type": "code",
   "execution_count": 41,
   "id": "7fe4645e-b7a2-405e-9a3c-15f86f616328",
   "metadata": {},
   "outputs": [
    {
     "name": "stdout",
     "output_type": "stream",
     "text": [
      "[0, 145000.0]\n",
      "[1, 162000.0]\n",
      "[2, 194000.0]\n",
      "[3, 53000.0]\n",
      "[4, 66000.0]\n",
      "[5, 98000.0]\n",
      "[6, 130000.0]\n",
      "[7, 162000.0]\n",
      "[8, 194000.0]\n",
      "[9, 226000.0]\n",
      "[10, 18500.0]\n",
      "[11, 34000.0]\n",
      "[12, 66000.0]\n",
      "[13, 98000.0]\n",
      "[14, 130000.0]\n",
      "[15, 162000.0]\n",
      "[16, 194000.0]\n",
      "[17, 226000.0]\n",
      "[18, 17000.0]\n",
      "[19, 34000.0]\n",
      "[20, 66000.0]\n",
      "[21, 98000.0]\n",
      "[22, 130000.0]\n",
      "[23, 162000.0]\n",
      "[24, 194000.0]\n",
      "[25, 226000.0]\n",
      "[26, 20000.0]\n",
      "[27, 34000.0]\n",
      "[28, 66000.0]\n",
      "[29, 98000.0]\n",
      "[30, 130000.0]\n",
      "[31, 162000.0]\n",
      "[32, 194000.0]\n",
      "[33, 226000.0]\n",
      "[34, 258000.0]\n",
      "[35, 34000.0]\n",
      "[36, 66000.0]\n",
      "[37, 98000.0]\n",
      "[38, 130000.0]\n",
      "[39, 162000.0]\n",
      "[40, 194000.0]\n",
      "[41, 226000.0]\n",
      "[42, 258000.0]\n"
     ]
    }
   ],
   "source": [
    "bound_data\n",
    "for i in range(43):\n",
    "    print([i, bound_data[i][1].left])\n"
   ]
  },
  {
   "cell_type": "code",
   "execution_count": 45,
   "id": "deeeb5b6-96af-47f9-978b-89f9e3d2e75d",
   "metadata": {},
   "outputs": [
    {
     "ename": "AttributeError",
     "evalue": "'_csv.writer' object has no attribute 'write'",
     "output_type": "error",
     "traceback": [
      "\u001b[0;31m---------------------------------------------------------------------------\u001b[0m",
      "\u001b[0;31mAttributeError\u001b[0m                            Traceback (most recent call last)",
      "\u001b[0;32m/tmp/ipykernel_53444/349250014.py\u001b[0m in \u001b[0;36m<module>\u001b[0;34m\u001b[0m\n\u001b[1;32m      2\u001b[0m \u001b[0;32mwith\u001b[0m \u001b[0mopen\u001b[0m\u001b[0;34m(\u001b[0m\u001b[0;34m'out.csv'\u001b[0m\u001b[0;34m,\u001b[0m \u001b[0;34m'wb'\u001b[0m\u001b[0;34m)\u001b[0m \u001b[0;32mas\u001b[0m \u001b[0mcsvfile\u001b[0m\u001b[0;34m:\u001b[0m\u001b[0;34m\u001b[0m\u001b[0;34m\u001b[0m\u001b[0m\n\u001b[1;32m      3\u001b[0m     \u001b[0mcsvwriter\u001b[0m \u001b[0;34m=\u001b[0m \u001b[0mcsv\u001b[0m\u001b[0;34m.\u001b[0m\u001b[0mwriter\u001b[0m\u001b[0;34m(\u001b[0m\u001b[0mcsvfile\u001b[0m\u001b[0;34m)\u001b[0m\u001b[0;34m\u001b[0m\u001b[0;34m\u001b[0m\u001b[0m\n\u001b[0;32m----> 4\u001b[0;31m     \u001b[0mcsvwriter\u001b[0m\u001b[0;34m.\u001b[0m\u001b[0mwrite\u001b[0m\u001b[0;34m(\u001b[0m\u001b[0mbound_data\u001b[0m\u001b[0;34m)\u001b[0m\u001b[0;34m\u001b[0m\u001b[0;34m\u001b[0m\u001b[0m\n\u001b[0m",
      "\u001b[0;31mAttributeError\u001b[0m: '_csv.writer' object has no attribute 'write'"
     ]
    }
   ],
   "source": [
    "import csv\n",
    "with open('out.csv', 'wb') as csvfile:\n",
    "    csvwriter = csv.writer(csvfile)\n",
    "    csvwriter.write(bound_data)"
   ]
  },
  {
   "cell_type": "code",
   "execution_count": 50,
   "id": "054be4e6-aa6d-4bf7-a6d8-982a3f043e7b",
   "metadata": {},
   "outputs": [],
   "source": [
    "import pandas as pd\n",
    "df = pd.DataFrame(bound_data, columns=['i', 'Bounds'])\n",
    "df.to_csv('./Data/bound_data', sep='\\t')"
   ]
  }
 ],
 "metadata": {
  "kernelspec": {
   "display_name": "Python 3 (ipykernel)",
   "language": "python",
   "name": "python3"
  },
  "language_info": {
   "codemirror_mode": {
    "name": "ipython",
    "version": 3
   },
   "file_extension": ".py",
   "mimetype": "text/x-python",
   "name": "python",
   "nbconvert_exporter": "python",
   "pygments_lexer": "ipython3",
   "version": "3.8.8"
  }
 },
 "nbformat": 4,
 "nbformat_minor": 5
}
