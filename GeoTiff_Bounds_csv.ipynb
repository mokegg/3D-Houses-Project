{
 "cells": [
  {
   "cell_type": "code",
   "execution_count": 1,
   "id": "dc02e0e9-a881-4cbe-9874-4469aa947375",
   "metadata": {},
   "outputs": [],
   "source": [
    "#uses `rasterio` to collect the bound data from the DSM (Digital Surface Map) and DTM (Digital Terrain Map)\n",
    "# import libraries\n",
    "import rasterio\n",
    "import pandas as pd"
   ]
  },
  {
   "cell_type": "code",
   "execution_count": 2,
   "id": "6309f157-34d5-4c7e-b5a0-cf88f989b797",
   "metadata": {},
   "outputs": [],
   "source": [
    "bound_data = [] # Empty data array\n",
    "num_files = [\"%.2d\" % (i+1) for i in range(43)]\n",
    "for i in num_files:\n",
    "    with rasterio.open(f'zip+https://downloadagiv.blob.core.windows.net/dhm-vlaanderen-ii-dsm-raster-1m/DHMVIIDSMRAS1m_k{i}.zip!/GeoTIFF/DHMVIIDSMRAS1m_k{i}.tif') as src:\n",
    "        bound_data.append ([i, src.bounds])\n",
    "    "
   ]
  },
  {
   "cell_type": "code",
   "execution_count": 3,
   "id": "054be4e6-aa6d-4bf7-a6d8-982a3f043e7b",
   "metadata": {},
   "outputs": [],
   "source": [
    "# Save bound_data to csv\n",
    "df = pd.DataFrame(bound_data, columns=['i', 'Bounds'])\n",
    "df.to_csv('./Data/bound_data1.csv', sep='\\t')"
   ]
  }
 ],
 "metadata": {
  "kernelspec": {
   "display_name": "Python 3 (ipykernel)",
   "language": "python",
   "name": "python3"
  },
  "language_info": {
   "codemirror_mode": {
    "name": "ipython",
    "version": 3
   },
   "file_extension": ".py",
   "mimetype": "text/x-python",
   "name": "python",
   "nbconvert_exporter": "python",
   "pygments_lexer": "ipython3",
   "version": "3.8.10"
  }
 },
 "nbformat": 4,
 "nbformat_minor": 5
}
