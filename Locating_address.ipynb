{
 "cells": [
  {
   "cell_type": "code",
   "execution_count": 139,
   "id": "f14473a6-978f-419d-81be-4aeeb7b8b448",
   "metadata": {},
   "outputs": [],
   "source": [
    "import numpy as np\n",
    "import rasterio\n",
    "from rasterio.plot import show\n",
    "from matplotlib import pyplot as plt\n",
    "%matplotlib inline\n",
    "import os\n",
    "import geopandas as gpd\n",
    "from mpl_toolkits.mplot3d import Axes3D\n",
    "from geopy.geocoders import Nominatim\n",
    "import folium"
   ]
  },
  {
   "cell_type": "code",
   "execution_count": 14,
   "id": "9c82be14-8b16-4202-9a60-d6acd4096297",
   "metadata": {},
   "outputs": [
    {
     "data": {
      "text/html": [
       "<div>\n",
       "<style scoped>\n",
       "    .dataframe tbody tr th:only-of-type {\n",
       "        vertical-align: middle;\n",
       "    }\n",
       "\n",
       "    .dataframe tbody tr th {\n",
       "        vertical-align: top;\n",
       "    }\n",
       "\n",
       "    .dataframe thead th {\n",
       "        text-align: right;\n",
       "    }\n",
       "</style>\n",
       "<table border=\"1\" class=\"dataframe\">\n",
       "  <thead>\n",
       "    <tr style=\"text-align: right;\">\n",
       "      <th></th>\n",
       "      <th>geometry</th>\n",
       "      <th>address</th>\n",
       "    </tr>\n",
       "  </thead>\n",
       "  <tbody>\n",
       "    <tr>\n",
       "      <th>0</th>\n",
       "      <td>POINT (4.70793 50.87486)</td>\n",
       "      <td>Campus Groep T, 13, Andreas Vesaliusstraat, 30...</td>\n",
       "    </tr>\n",
       "  </tbody>\n",
       "</table>\n",
       "</div>"
      ],
      "text/plain": [
       "                   geometry                                            address\n",
       "0  POINT (4.70793 50.87486)  Campus Groep T, 13, Andreas Vesaliusstraat, 30..."
      ]
     },
     "execution_count": 14,
     "metadata": {},
     "output_type": "execute_result"
    }
   ],
   "source": [
    "address = 'Andreas Vesaliusstraat 13 3000 Leuven '\n",
    "df = gpd.tools.geocode(address)\n",
    "df"
   ]
  },
  {
   "cell_type": "code",
   "execution_count": 54,
   "id": "4d94e770-2970-4acb-98ed-d42ebe8c7329",
   "metadata": {},
   "outputs": [
    {
     "name": "stdout",
     "output_type": "stream",
     "text": [
      "50.87485515 4.707931288875566\n"
     ]
    }
   ],
   "source": [
    "#get the latitude and longitude of the address in \"epsg:4326\"\n",
    "geolocator = Nominatim(user_agent=\"Moke\", timeout=2)\n",
    "location = geolocator.geocode(address)\n",
    "print(location.latitude, location.longitude)"
   ]
  },
  {
   "cell_type": "code",
   "execution_count": 55,
   "id": "8d04bfb0-4a89-4b4a-82ae-3704e05b003d",
   "metadata": {},
   "outputs": [],
   "source": [
    "#Locating the address using Folium \n",
    "House_location = [location.latitude, location.longitude]\n",
    "House_map = folium.Map(location = House_location, zoom_start=50)\n",
    "folium.Marker(House_location, popup=\"MyPlace\").add_to(House_map)\n",
    "House_map\n",
    "House_map.save(f\"{address}.html\")"
   ]
  },
  {
   "cell_type": "code",
   "execution_count": 104,
   "id": "9368439d-302c-4132-a9bf-09502545bdad",
   "metadata": {},
   "outputs": [],
   "source": [
    "# convert latitude and longitude of the address to epsg:31370\n",
    "import pyproj\n",
    "transformer = pyproj.Transformer.from_crs(\"epsg:4326\", \"epsg:31370\")\n",
    "House_locB = transformer.transform(House_location[0], House_location[1])"
   ]
  },
  {
   "cell_type": "code",
   "execution_count": 128,
   "id": "6fab2edb-d494-4030-9b0d-5854c0aaaf5b",
   "metadata": {},
   "outputs": [
    {
     "data": {
      "text/plain": [
       "(173872.54838429907, 173886.31980094593)"
      ]
     },
     "execution_count": 128,
     "metadata": {},
     "output_type": "execute_result"
    }
   ],
   "source": [
    "House_locB"
   ]
  },
  {
   "cell_type": "code",
   "execution_count": 34,
   "id": "052c3d09-1ef5-47cb-93ab-d55206801ab3",
   "metadata": {},
   "outputs": [
    {
     "data": {
      "text/plain": [
       "['DHMVIIDSMRAS1m_k32.tif',\n",
       " 'DHMVIIDSMRAS1m_k01.tif',\n",
       " 'DHMVIIDSMRAS1m_k02.tif',\n",
       " 'DHMVIIDSMRAS1m_k31.tif',\n",
       " 'DHMVII_vdc_k01']"
      ]
     },
     "execution_count": 34,
     "metadata": {},
     "output_type": "execute_result"
    }
   ],
   "source": [
    "os.listdir('./Data/DSM_Data/')"
   ]
  },
  {
   "cell_type": "code",
   "execution_count": 57,
   "id": "6b234e33-df3a-4097-ae7b-df4c3315cd79",
   "metadata": {},
   "outputs": [
    {
     "data": {
      "text/plain": [
       "[]"
      ]
     },
     "execution_count": 57,
     "metadata": {},
     "output_type": "execute_result"
    }
   ],
   "source": [
    "#file name globbing\n",
    "import glob\n",
    "glob.glob('./Data/*.tif', recursive=True)"
   ]
  },
  {
   "cell_type": "code",
   "execution_count": 58,
   "id": "43525350-13f0-4c94-98af-8cef1688445a",
   "metadata": {},
   "outputs": [
    {
     "data": {
      "text/plain": [
       "['./Data/DSM_Data/DHMVIIDSMRAS1m_k01.tif',\n",
       " './Data/DSM_Data/DHMVIIDSMRAS1m_k02.tif',\n",
       " './Data/DSM_Data/DHMVIIDSMRAS1m_k31.tif',\n",
       " './Data/DSM_Data/DHMVIIDSMRAS1m_k32.tif',\n",
       " './Data/DTM_Data/DHMVIIDTMRAS1m_k01.tif',\n",
       " './Data/DTM_Data/DHMVIIDTMRAS1m_k02.tif',\n",
       " './Data/DTM_Data/DHMVIIDTMRAS1m_k31.tif',\n",
       " './Data/DTM_Data/DHMVIIDTMRAS1m_k32.tif']"
      ]
     },
     "execution_count": 58,
     "metadata": {},
     "output_type": "execute_result"
    }
   ],
   "source": [
    "#listing tiff files in a folder\n",
    "tiff_files = []\n",
    "for tiff_file in glob.glob('./Data/**/*.tif', recursive=True):\n",
    "    tiff_files.append(tiff_file)\n",
    "tiff_files\n",
    "# sorting the files\n",
    "sorted(tiff_files)"
   ]
  },
  {
   "cell_type": "code",
   "execution_count": 132,
   "id": "522f4d6d-b46b-4453-8229-ec19148fb353",
   "metadata": {},
   "outputs": [
    {
     "name": "stdout",
     "output_type": "stream",
     "text": [
      "162000.0\n",
      "145000.0\n",
      "162000.0\n",
      "130000.0\n"
     ]
    }
   ],
   "source": [
    "tiff_bounds = []\n",
    "for tiff_file in glob.glob('./Data/DSM_Data/*.tif'):\n",
    "    with rasterio.open(tiff_file) as src:\n",
    "        print(src.bounds[0])\n",
    "        # if House_locB[0] >= df.bounds[0]: #& House_locB[0] <= df.bounds[2]:\n",
    "        # tiff_bounds['name'] = src.name\n",
    "        # tiff_bounds['bounds'] = src.bounds\n",
    "        # tiff_bounds.append((src.name, src.bounds))"
   ]
  },
  {
   "cell_type": "code",
   "execution_count": 129,
   "id": "d880d377-14b4-4e38-b8b2-9513f689b67a",
   "metadata": {},
   "outputs": [
    {
     "data": {
      "text/plain": [
       "[('./Data/DSM_Data/DHMVIIDSMRAS1m_k32.tif',\n",
       "  BoundingBox(left=162000.0, bottom=158000.0, right=194000.0, top=178000.0)),\n",
       " ('./Data/DSM_Data/DHMVIIDSMRAS1m_k01.tif',\n",
       "  BoundingBox(left=145000.0, bottom=238000.0, right=162000.0, top=247000.0)),\n",
       " ('./Data/DSM_Data/DHMVIIDSMRAS1m_k02.tif',\n",
       "  BoundingBox(left=162000.0, bottom=238000.0, right=194000.0, top=250000.0)),\n",
       " ('./Data/DSM_Data/DHMVIIDSMRAS1m_k31.tif',\n",
       "  BoundingBox(left=130000.0, bottom=158000.0, right=162000.0, top=178000.0))]"
      ]
     },
     "execution_count": 129,
     "metadata": {},
     "output_type": "execute_result"
    }
   ],
   "source": [
    "tiff_bounds"
   ]
  },
  {
   "cell_type": "code",
   "execution_count": 140,
   "id": "4f9047fd-275f-4997-8060-3b91c8011684",
   "metadata": {},
   "outputs": [
    {
     "name": "stdout",
     "output_type": "stream",
     "text": [
      "BoundingBox(left=162000.0, bottom=158000.0, right=194000.0, top=178000.0)\n"
     ]
    },
    {
     "data": {
      "text/plain": [
       "True"
      ]
     },
     "execution_count": 140,
     "metadata": {},
     "output_type": "execute_result"
    }
   ],
   "source": [
    "def boxContains(rect,pt):\n",
    "    logic = rect[0] < pt[0] < rect[2] and rect[1] < pt[1] < rect[3]\n",
    "    return logic\n",
    "\n",
    "src=rasterio.open('Data/DSM_Data/DHMVIIDSMRAS1m_k32.tif')\n",
    "rect = src.bounds\n",
    "print(rect)\n",
    "pt = (173872.54838429907, 173886.31980094593)\n",
    "boxContains(rect,pt)"
   ]
  },
  {
   "cell_type": "code",
   "execution_count": 145,
   "id": "c55af7e8-7158-4f5e-83fe-81832759dc6d",
   "metadata": {},
   "outputs": [
    {
     "data": {
      "image/svg+xml": [
       "<svg xmlns=\"http://www.w3.org/2000/svg\" xmlns:xlink=\"http://www.w3.org/1999/xlink\" width=\"300\" height=\"300\" viewBox=\"173602.54838429907 173616.31980094593 540.0 540.0\" preserveAspectRatio=\"xMinYMin meet\"><g transform=\"matrix(1,0,0,-1,0,347772.63960189186)\"><path fill-rule=\"evenodd\" fill=\"#66cc99\" stroke=\"#555555\" stroke-width=\"3.6\" opacity=\"0.6\" d=\"M 173622.54838429907,173636.31980094593 L 174122.54838429907,173636.31980094593 L 174122.54838429907,174136.31980094593 L 173622.54838429907,174136.31980094593 L 173622.54838429907,173636.31980094593 z\" /></g></svg>"
      ],
      "text/plain": [
       "<shapely.geometry.polygon.Polygon at 0x7f3270facbe0>"
      ]
     },
     "execution_count": 145,
     "metadata": {},
     "output_type": "execute_result"
    }
   ],
   "source": [
    "# Using shapely create geometry\n",
    "from shapely.geometry import Point, LineString, Polygon\n",
    "import fiona\n",
    "polygon = Polygon([[pt[0]-250, pt[1]-250], [pt[0]+250, pt[1]-250], [pt[0]+250, pt[1]+250], [pt[0]-250, pt[1]+250]])\n",
    "# point1 = Point([pt[0]-250, pt[1]-250])\n",
    "# point2 = Point([pt[0], pt[1]-250])\n",
    "# point3 = Point([pt[0]+250, pt[1]+250])\n",
    "# point4 = Point([pt[0]-250, pt[1]+250])\n",
    "\n",
    "polygon"
   ]
  },
  {
   "cell_type": "code",
   "execution_count": 147,
   "id": "2911df4a-1b18-4613-bd23-e8b1ce159b51",
   "metadata": {},
   "outputs": [
    {
     "name": "stdout",
     "output_type": "stream",
     "text": [
      "My area of interest: \n",
      " POLYGON ((173622.5483842991 173636.3198009459, 174122.5483842991 173636.3198009459, 174122.5483842991 174136.3198009459, 173622.5483842991 174136.3198009459, 173622.5483842991 173636.3198009459))\n"
     ]
    }
   ],
   "source": [
    "#Save the geometry in to shapefile\n",
    "import pickle\n",
    "\n",
    "# Save polygon \n",
    "with open('./AOI', \"wb\") as poly_file:\n",
    "    pickle.dump(polygon, poly_file, pickle.HIGHEST_PROTOCOL)\n",
    "\n",
    "# Load polygon from disc\n",
    "with open('./AOI', \"rb\") as poly_file:\n",
    "    loaded_polygon = pickle.load(poly_file)\n",
    "\n",
    "# Check it out \n",
    "print('My area of interest: \\n', loaded_polygon)"
   ]
  },
  {
   "cell_type": "code",
   "execution_count": 156,
   "id": "2bf8298a-7a48-4c32-9852-b001e2f44c21",
   "metadata": {},
   "outputs": [
    {
     "data": {
      "text/plain": [
       "'polygon'"
      ]
     },
     "execution_count": 156,
     "metadata": {},
     "output_type": "execute_result"
    }
   ],
   "source": [
    "from bs4 import BeautifulSoup\n",
    "import requests \n",
    "def get_coordinates(address: str):\n",
    "    req = requests.get(f\"https://loc.geopunt.be/v4/Location?q={address}\").json()\n",
    "    info = {'address' : address, \n",
    "                'x_value' : req['LocationResult'][0]['Location']['X_Lambert72'],\n",
    "                'y_value' : req['LocationResult'][0]['Location']['Y_Lambert72'],\n",
    "                'street' : req['LocationResult'][0]['Thoroughfarename'],\n",
    "                'house_number' : req['LocationResult'][0]['Housenumber'], \n",
    "                'postcode': req['LocationResult'][0]['Zipcode'], \n",
    "                'municipality' : req['LocationResult'][0]['Municipality']}\n",
    "    \n",
    "    detail = requests.get(\"https://api.basisregisters.vlaanderen.be/v1/adresmatch\", \n",
    "                          params={\"postcode\": info['postcode'], \n",
    "                                  \"straatnaam\": info['street'],\n",
    "                                  \"huisnummer\": info['house_number']}).json()\n",
    "    building = requests.get(detail['adresMatches'][0]['adresseerbareObjecten'][0]['detail']).json()\n",
    "    build = requests.get(building['gebouw']['detail']).json()\n",
    "    info['polygon'] = [build['geometriePolygoon']['polygon']]\n",
    "    return info['polygon'][0]['coordinates'][0] \n",
    "\n",
    "get_coordinates(address)\n"
   ]
  }
 ],
 "metadata": {
  "kernelspec": {
   "display_name": "Python 3 (ipykernel)",
   "language": "python",
   "name": "python3"
  },
  "language_info": {
   "codemirror_mode": {
    "name": "ipython",
    "version": 3
   },
   "file_extension": ".py",
   "mimetype": "text/x-python",
   "name": "python",
   "nbconvert_exporter": "python",
   "pygments_lexer": "ipython3",
   "version": "3.8.8"
  }
 },
 "nbformat": 4,
 "nbformat_minor": 5
}
