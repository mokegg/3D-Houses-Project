{
 "cells": [
  {
   "cell_type": "markdown",
   "id": "47f47e9a-bea8-4310-baa1-feb73ca44048",
   "metadata": {},
   "source": [
    "### Import necessary libraries"
   ]
  },
  {
   "cell_type": "code",
   "execution_count": 1,
   "id": "92d57e40-6b05-4661-a26d-6ef94318d75e",
   "metadata": {},
   "outputs": [],
   "source": [
    "import numpy as np\n",
    "import geopandas as gpd\n",
    "import rasterio\n",
    "from rasterio.plot import show\n",
    "from matplotlib import pyplot as plt\n",
    "from mpl_toolkits.mplot3d import Axes3D\n",
    "%matplotlib inline\n",
    "import os\n",
    "from geopy.geocoders import Nominatim\n",
    "\n",
    "import time\n",
    "start = time.perf_counter()"
   ]
  },
  {
   "cell_type": "markdown",
   "id": "e008b5b5-34d8-4ca8-9171-acd4c990049b",
   "metadata": {},
   "source": [
    "### Get the address of the building"
   ]
  },
  {
   "cell_type": "code",
   "execution_count": 6,
   "id": "bcbe65ad-dc0b-446c-bc2e-ad9fed09c837",
   "metadata": {},
   "outputs": [
    {
     "name": "stdin",
     "output_type": "stream",
     "text": [
      "Enter an address in Flanders: Sint-Maartensdal 5, 3000 Leuven\n"
     ]
    },
    {
     "data": {
      "text/html": [
       "<div>\n",
       "<style scoped>\n",
       "    .dataframe tbody tr th:only-of-type {\n",
       "        vertical-align: middle;\n",
       "    }\n",
       "\n",
       "    .dataframe tbody tr th {\n",
       "        vertical-align: top;\n",
       "    }\n",
       "\n",
       "    .dataframe thead th {\n",
       "        text-align: right;\n",
       "    }\n",
       "</style>\n",
       "<table border=\"1\" class=\"dataframe\">\n",
       "  <thead>\n",
       "    <tr style=\"text-align: right;\">\n",
       "      <th></th>\n",
       "      <th>geometry</th>\n",
       "      <th>address</th>\n",
       "    </tr>\n",
       "  </thead>\n",
       "  <tbody>\n",
       "    <tr>\n",
       "      <th>0</th>\n",
       "      <td>POINT (4.70120 50.87954)</td>\n",
       "      <td>Sint-Pieterskerk, 5, Grote Markt, 3000, Grote ...</td>\n",
       "    </tr>\n",
       "  </tbody>\n",
       "</table>\n",
       "</div>"
      ],
      "text/plain": [
       "                   geometry                                            address\n",
       "0  POINT (4.70120 50.87954)  Sint-Pieterskerk, 5, Grote Markt, 3000, Grote ..."
      ]
     },
     "execution_count": 6,
     "metadata": {},
     "output_type": "execute_result"
    }
   ],
   "source": [
    "address = input(\"Enter an address in Flanders:\")\n",
    "'''\n",
    "Tried addresses: 'Andreas Vesaliusstraat 13 3000 Leuven' \n",
    "    'Sint-Pietersvliet 7, 2000 Antwerpen' \n",
    "    'Schoenmarkt 21 Antwerp' \n",
    "    'Sint-Paulusstraat 22, 2000 Antwerpen'\n",
    "    'Andreas Vesaliusstraat 13 3000 Leuven' \n",
    "    'Jozef Vandaleplein, 8500 Kortrijk', \n",
    "    'Sint-Paulusstraat 22, 2000 Antwerpen'\n",
    "    'Monseigneur Ladeuzeplein 21, 3000 Leuven'\n",
    "    \n",
    "    '''\n",
    "\n",
    "# Check if it is a correct address\n",
    "df = gpd.tools.geocode(address)\n",
    "df"
   ]
  },
  {
   "cell_type": "markdown",
   "id": "b560061d-859a-4c9c-af5c-d713187a60f2",
   "metadata": {},
   "source": [
    "### Read the `csv` file containing the data of bounds values of the raster images and clean the data"
   ]
  },
  {
   "cell_type": "code",
   "execution_count": 7,
   "id": "10971202-926b-4fef-9099-e26e8719b37b",
   "metadata": {},
   "outputs": [],
   "source": [
    "# Locate the coresponding Tiff file where the address lies\n",
    "import pandas as pd\n",
    "df = pd.read_csv('Data/bound_data.csv', sep='\\t')\n",
    "del df['Unnamed: 0']\n",
    "df = df.set_index('i')"
   ]
  },
  {
   "cell_type": "markdown",
   "id": "e1645763-34fc-424f-9679-54932ff28fcc",
   "metadata": {},
   "source": [
    "### Using `Nominatim`, get the coordinates of the area of interest in `crs EPSG:31370`."
   ]
  },
  {
   "cell_type": "code",
   "execution_count": 8,
   "id": "5f2aca3b-341e-4154-b669-d32968570917",
   "metadata": {},
   "outputs": [],
   "source": [
    "from shapely.geometry import Point, LineString, Polygon\n",
    "import requests \n",
    "def get_coordinates(address: str):\n",
    "    req = requests.get(f\"https://loc.geopunt.be/v4/Location?q={address}\").json()\n",
    "    info = {'address' : address, \n",
    "                'x_value' : req['LocationResult'][0]['Location']['X_Lambert72'],\n",
    "                'y_value' : req['LocationResult'][0]['Location']['Y_Lambert72'],\n",
    "                'street' : req['LocationResult'][0]['Thoroughfarename'],\n",
    "                'house_number' : req['LocationResult'][0]['Housenumber'], \n",
    "                'postcode': req['LocationResult'][0]['Zipcode'], \n",
    "                'municipality' : req['LocationResult'][0]['Municipality']}\n",
    "    \n",
    "    detail = requests.get(\"https://api.basisregisters.vlaanderen.be/v1/adresmatch\", \n",
    "                          params={\"postcode\": info['postcode'], \n",
    "                                  \"straatnaam\": info['street'],\n",
    "                                  \"huisnummer\": info['house_number']}).json()\n",
    "    building = requests.get(detail['adresMatches'][0]['adresseerbareObjecten'][0]['detail']).json()\n",
    "    build = requests.get(building['gebouw']['detail']).json()\n",
    "    info['polygon'] = [build['geometriePolygoon']['polygon']]\n",
    "    points = info['polygon'][0]['coordinates'][0] \n",
    "    return info\n",
    "\n",
    "info = get_coordinates(address)\n",
    "pointList = info['polygon'][0]['coordinates'][0] \n",
    "X, Y = info['x_value'], info['y_value']\n",
    "# pointList\n",
    "poly = Polygon([[p[0], p[1]] for p in pointList])\n",
    "Area  = poly.area"
   ]
  },
  {
   "cell_type": "markdown",
   "id": "50b717bd-fa48-4a37-96fc-0349949f1933",
   "metadata": {},
   "source": [
    "### Find the index number of the raster file where the area of interest is located"
   ]
  },
  {
   "cell_type": "code",
   "execution_count": 9,
   "id": "477c6212-78bd-41d1-bc09-0313827f2659",
   "metadata": {},
   "outputs": [
    {
     "data": {
      "text/plain": [
       "32"
      ]
     },
     "execution_count": 9,
     "metadata": {},
     "output_type": "execute_result"
    }
   ],
   "source": [
    "#Find the index of the rasterfile\n",
    "\n",
    "df = df[(df['left'] <= X) & (X <= df['right'])] \n",
    "df = df[(df['bottom'] <= Y) & (Y <= df['top'])]\n",
    "\n",
    "i = df.index.item()\n",
    "i"
   ]
  },
  {
   "cell_type": "markdown",
   "id": "da3512ed-53f5-4afc-b332-9785217c38e0",
   "metadata": {},
   "source": [
    "### Open the DSM and DTM `Geotiff` images corresponding to the area of interest and `clip` them with the polygon of the house using `rasterio`. Get the clipped CHM array"
   ]
  },
  {
   "cell_type": "code",
   "execution_count": 10,
   "id": "87708eee-860b-462c-9c08-167376c57124",
   "metadata": {},
   "outputs": [
    {
     "data": {
      "text/plain": [
       "102.66000175476074"
      ]
     },
     "execution_count": 10,
     "metadata": {},
     "output_type": "execute_result"
    }
   ],
   "source": [
    "import rioxarray as rxr\n",
    " \n",
    "geometries = [{'type': 'Polygon','coordinates': [pointList]}] # the shape of the polygon\n",
    "\n",
    "# Open the DSM and DTM Geotiff images corresponding to the area of interest\n",
    "DSM = rxr.open_rasterio(f'zip+https://downloadagiv.blob.core.windows.net/dhm-vlaanderen-ii-dsm-raster-1m/DHMVIIDSMRAS1m_k{i}.zip!/GeoTIFF/DHMVIIDSMRAS1m_k{i}.tif', masked=True)\n",
    "# Clip the DSM and DTM Geotiff images with the plygon\n",
    "clipped_DSM = DSM.rio.clip(geometries, from_disk = True)\n",
    "\n",
    "\n",
    "DTM = rxr.open_rasterio(f'zip+https://downloadagiv.blob.core.windows.net/dhm-vlaanderen-ii-dtm-raster-1m/DHMVIIDTMRAS1m_k{i}.zip!/GeoTIFF/DHMVIIDTMRAS1m_k{i}.tif', masked=True)\n",
    "clipped_DTM = DTM.rio.clip(geometries, from_disk = True)\n",
    " \n",
    "# Get the clipped CHM array\n",
    "clipped_CHM = clipped_DSM - clipped_DTM\n",
    "a = clipped_CHM\n",
    "\n",
    "# Replace the nan values with 0\n",
    "clipped_CHM = np.where(np.isnan(a), 0, a)\n",
    "z = clipped_CHM[0]\n",
    "\n",
    "# The maximum value of the clipped CHM corresponds to the height of the building\n",
    "z.max()"
   ]
  },
  {
   "cell_type": "code",
   "execution_count": 11,
   "id": "eb4fb2a5-b327-40a9-a74f-ad62ebbd8c5c",
   "metadata": {
    "tags": []
   },
   "outputs": [
    {
     "name": "stdout",
     "output_type": "stream",
     "text": [
      "Complete in 947.96, seconds\n"
     ]
    }
   ],
   "source": [
    "# Create the meshgrid\n",
    "\n",
    "X1,Y1 = clipped_CHM[0].shape\n",
    "x = range(X1+2)\n",
    "y = range (Y1+2)\n",
    "x,y = np.meshgrid(x, y, indexing='ij')\n",
    "\n",
    "z = clipped_CHM[0]\n",
    "\n",
    "# Padding the z value\n",
    "z = np.pad(z, 1, mode='constant')\n",
    "z.shape\n",
    "x.shape, y.shape, z.shape\n",
    "\n",
    "finish = time.perf_counter()\n",
    "print(f'Complete in {round(finish - start, 2)}, seconds')"
   ]
  },
  {
   "cell_type": "markdown",
   "id": "11fac31f-6d4b-4b8d-bdeb-f9e056b9f3d1",
   "metadata": {},
   "source": [
    "### Plot the 3D image with `mayavi`"
   ]
  },
  {
   "cell_type": "code",
   "execution_count": 13,
   "id": "3add26f6-c129-4549-bad5-bd6a89f7ed58",
   "metadata": {},
   "outputs": [],
   "source": [
    "import mayavi\n",
    "from mayavi import mlab\n",
    "mlab.figure(size=(250, 250), bgcolor=(0.16, 0.28, 0.46))\n",
    "mlab.mesh(x,y,z) \n",
    "mlab.colorbar(orientation='vertical', title='Height')\n",
    "mlab.colorbar.font_size = 8\n",
    "mlab.show()"
   ]
  }
 ],
 "metadata": {
  "kernelspec": {
   "display_name": "Python 3 (ipykernel)",
   "language": "python",
   "name": "python3"
  },
  "language_info": {
   "codemirror_mode": {
    "name": "ipython",
    "version": 3
   },
   "file_extension": ".py",
   "mimetype": "text/x-python",
   "name": "python",
   "nbconvert_exporter": "python",
   "pygments_lexer": "ipython3",
   "version": "3.8.10"
  },
  "toc-showcode": true,
  "toc-showmarkdowntxt": false
 },
 "nbformat": 4,
 "nbformat_minor": 5
}
