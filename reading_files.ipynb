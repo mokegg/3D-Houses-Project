{
 "cells": [
  {
   "cell_type": "code",
   "execution_count": 18,
   "id": "dc02e0e9-a881-4cbe-9874-4469aa947375",
   "metadata": {},
   "outputs": [],
   "source": [
    "import numpy as np\n",
    "import rasterio\n",
    "from rasterio.plot import show\n",
    "from matplotlib import pyplot as plt\n",
    "import os\n",
    "# fileDir = os.path.dirname(os.path.realpath('__file__'))\n",
    "# print(fileDir) \n",
    "# with rasterio.open('DSM_Data/DHMVIIDSMRAS1m_k01.tif') as img:   \n",
    "#     # print(img)\n",
    "#     # print(img.width, img.height)     \n",
    "#     show(img)\n",
    "with rasterio.open('DTM_Data/DHMVIIDTMRAS1m_k01.tif') as img1:\n",
    "    #show(img1)\n",
    "    dtm_arr = img1.read()\n",
    "    dtm_meta = img1.profile\n",
    "    dtm_meta"
   ]
  },
  {
   "cell_type": "code",
   "execution_count": 14,
   "id": "6309f157-34d5-4c7e-b5a0-cf88f989b797",
   "metadata": {},
   "outputs": [
    {
     "ename": "RasterioIOError",
     "evalue": "Dataset is closed: DTM_Data/DHMVIIDTMRAS1m_k01.tif",
     "output_type": "error",
     "traceback": [
      "\u001b[0;31m---------------------------------------------------------------------------\u001b[0m",
      "\u001b[0;31mRasterioIOError\u001b[0m                           Traceback (most recent call last)",
      "\u001b[0;32m/tmp/ipykernel_159486/1134909478.py\u001b[0m in \u001b[0;36m<module>\u001b[0;34m\u001b[0m\n\u001b[1;32m      2\u001b[0m     \u001b[0;31m# show(img)\u001b[0m\u001b[0;34m\u001b[0m\u001b[0;34m\u001b[0m\u001b[0;34m\u001b[0m\u001b[0m\n\u001b[1;32m      3\u001b[0m     \u001b[0mdsm_arr\u001b[0m \u001b[0;34m=\u001b[0m \u001b[0mimg\u001b[0m\u001b[0;34m.\u001b[0m\u001b[0mread\u001b[0m\u001b[0;34m(\u001b[0m\u001b[0;34m)\u001b[0m\u001b[0;34m\u001b[0m\u001b[0;34m\u001b[0m\u001b[0m\n\u001b[0;32m----> 4\u001b[0;31m     \u001b[0mdsm_meta\u001b[0m \u001b[0;34m=\u001b[0m \u001b[0mimg1\u001b[0m\u001b[0;34m.\u001b[0m\u001b[0mprofile\u001b[0m\u001b[0;34m\u001b[0m\u001b[0;34m\u001b[0m\u001b[0m\n\u001b[0m",
      "\u001b[0;32mrasterio/_base.pyx\u001b[0m in \u001b[0;36mrasterio._base.DatasetBase.profile.__get__\u001b[0;34m()\u001b[0m\n",
      "\u001b[0;32mrasterio/_base.pyx\u001b[0m in \u001b[0;36mrasterio._base.DatasetBase.is_tiled.__get__\u001b[0;34m()\u001b[0m\n",
      "\u001b[0;32mrasterio/_base.pyx\u001b[0m in \u001b[0;36mrasterio._base.DatasetBase.block_shapes.__get__\u001b[0;34m()\u001b[0m\n",
      "\u001b[0;32mrasterio/_base.pyx\u001b[0m in \u001b[0;36mrasterio._base.DatasetBase.band\u001b[0;34m()\u001b[0m\n",
      "\u001b[0;32mrasterio/_base.pyx\u001b[0m in \u001b[0;36mrasterio._base.DatasetBase.handle\u001b[0;34m()\u001b[0m\n",
      "\u001b[0;31mRasterioIOError\u001b[0m: Dataset is closed: DTM_Data/DHMVIIDTMRAS1m_k01.tif"
     ]
    }
   ],
   "source": [
    "with rasterio.open('DSM_Data/DHMVIIDSMRAS1m_k01.tif') as img:\n",
    "    # show(img)\n",
    "    dsm_arr = img.read()\n",
    "    dsm_meta = img1.profile"
   ]
  },
  {
   "cell_type": "code",
   "execution_count": 12,
   "id": "7fe4645e-b7a2-405e-9a3c-15f86f616328",
   "metadata": {},
   "outputs": [
    {
     "name": "stdout",
     "output_type": "stream",
     "text": [
      "-9999.0 33.27\n",
      "(1, 9000, 17000)\n"
     ]
    },
    {
     "data": {
      "text/plain": [
       "(1, 9000, 17000)"
      ]
     },
     "execution_count": 12,
     "metadata": {},
     "output_type": "execute_result"
    }
   ],
   "source": [
    "\n",
    "\n",
    "print(dtm_arr.min(), dtm_arr.max())\n",
    "print(dsm_arr.shape)\n",
    "dtm_arr.shape"
   ]
  }
 ],
 "metadata": {
  "kernelspec": {
   "display_name": "Python 3 (ipykernel)",
   "language": "python",
   "name": "python3"
  },
  "language_info": {
   "codemirror_mode": {
    "name": "ipython",
    "version": 3
   },
   "file_extension": ".py",
   "mimetype": "text/x-python",
   "name": "python",
   "nbconvert_exporter": "python",
   "pygments_lexer": "ipython3",
   "version": "3.8.10"
  }
 },
 "nbformat": 4,
 "nbformat_minor": 5
}
