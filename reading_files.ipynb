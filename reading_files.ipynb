{
 "cells": [
  {
   "cell_type": "code",
   "execution_count": 2,
   "id": "ca57e402-8225-4d3c-ab4f-c6544b6f3dcc",
   "metadata": {},
   "outputs": [],
   "source": [
    "import numpy as np\n",
    "import rasterio\n",
    "from rasterio.plot import show\n",
    "from matplotlib import pyplot as plt\n",
    "%matplotlib inline\n",
    "import os\n",
    "import geopandas as gp\n",
    "from mpl_toolkits.mplot3d import Axes3D"
   ]
  },
  {
   "cell_type": "code",
   "execution_count": 24,
   "id": "89a9fb80-ba10-45e2-8663-d6241441d733",
   "metadata": {},
   "outputs": [
    {
     "data": {
      "text/html": [
       "<div>\n",
       "<style scoped>\n",
       "    .dataframe tbody tr th:only-of-type {\n",
       "        vertical-align: middle;\n",
       "    }\n",
       "\n",
       "    .dataframe tbody tr th {\n",
       "        vertical-align: top;\n",
       "    }\n",
       "\n",
       "    .dataframe thead th {\n",
       "        text-align: right;\n",
       "    }\n",
       "</style>\n",
       "<table border=\"1\" class=\"dataframe\">\n",
       "  <thead>\n",
       "    <tr style=\"text-align: right;\">\n",
       "      <th></th>\n",
       "      <th>geometry</th>\n",
       "      <th>address</th>\n",
       "    </tr>\n",
       "  </thead>\n",
       "  <tbody>\n",
       "    <tr>\n",
       "      <th>0</th>\n",
       "      <td>POINT (4.67443 50.87211)</td>\n",
       "      <td>9, Celestijnenlaan, 3001, Celestijnenlaan, Leu...</td>\n",
       "    </tr>\n",
       "  </tbody>\n",
       "</table>\n",
       "</div>"
      ],
      "text/plain": [
       "                   geometry                                            address\n",
       "0  POINT (4.67443 50.87211)  9, Celestijnenlaan, 3001, Celestijnenlaan, Leu..."
      ]
     },
     "execution_count": 24,
     "metadata": {},
     "output_type": "execute_result"
    }
   ],
   "source": [
    "address ='celestijnenlaan 9, 3001 heverlee'\n",
    "gp.tools.geocode(address)"
   ]
  },
  {
   "cell_type": "code",
   "execution_count": 46,
   "id": "8d617e31-97c1-497b-8529-42856b53b11f",
   "metadata": {},
   "outputs": [
    {
     "data": {
      "image/png": "[encoded data removed]",
      "text/plain": [
       "<Figure size 432x288 with 1 Axes>"
      ]
     },
     "metadata": {
      "needs_background": "light"
     },
     "output_type": "display_data"
    }
   ],
   "source": [
    "#Read Shape files\n",
    "shape_df = gp.read_file('Data/DSM_Data/DHMVII_vdc_k01/DHMVII_vdc_k01.shp')\n",
    "# print(geo_df)\n",
    "x0 = shape_df.loc[1, 'geometry']\n",
    "x0\n",
    "shape_df.crs\n",
    "# print(shape_df.crs)\n",
    "# shape_df.head()\n",
    "\n",
    "shape_df.plot()\n",
    "plt.show()"
   ]
  },
  {
   "cell_type": "code",
   "execution_count": null,
   "id": "dc02e0e9-a881-4cbe-9874-4469aa947375",
   "metadata": {},
   "outputs": [],
   "source": [
    "DTM_img = rasterio.open('Data/DTM_Data/DHMVIIDTMRAS1m_k01.tif', masked=True)\n",
    "DTM_arr = DTM_img.read()\n",
    "# show(DTM_img)\n",
    "DSM_img = rasterio.open('Data/DSM_Data/DHMVIIDSMRAS1m_k01.tif', masked=True)\n",
    "DSM_arr = DSM_img.read()\n",
    "\n",
    "DBM_arr = DSM_arr - DTM_arr\n",
    "x = DBM_arr[0]\n",
    "x[1, 50000:10000]\n",
    "# DBM_arr.shape"
   ]
  },
  {
   "cell_type": "code",
   "execution_count": null,
   "id": "687aa071-285c-4305-a455-16a7f3c1af66",
   "metadata": {},
   "outputs": [],
   "source": [
    "import matplotlib.pyplot as plt\n",
    "from mpl_toolkits.mplot3d import Axes3D\n",
    "\n",
    "x,y = np.meshgrid(range(17000), range(9000), indexing='ij')\n",
    "z = DBM_arr[0]\n",
    "# fig = plt.figure(figsize=(17, 9))\n",
    "# ax = fig.add_subplot(111, projection=\"3d\")\n",
    "# ax.plot_trisurf(x,y,z)\n",
    "plt.figure()\n",
    "plt.scatter(x, y, z)\n",
    "plt.show()"
   ]
  },
  {
   "cell_type": "code",
   "execution_count": 10,
   "id": "ae924a75-678f-4711-8d77-234f1e17b586",
   "metadata": {},
   "outputs": [
    {
     "name": "stdout",
     "output_type": "stream",
     "text": [
      "EPSG:31370\n"
     ]
    }
   ],
   "source": [
    "DTM_arr.shape\n",
    "crs = DTM_img.crs\n",
    "print(crs)"
   ]
  },
  {
   "cell_type": "code",
   "execution_count": 25,
   "id": "3562312c-90c8-4605-a6f7-79ae946f0e98",
   "metadata": {},
   "outputs": [
    {
     "name": "stdout",
     "output_type": "stream",
     "text": [
      "[[[-9.999e+03 -9.999e+03 -9.999e+03 ...  1.275e+01  1.279e+01  1.280e+01]\n",
      "  [-9.999e+03 -9.999e+03 -9.999e+03 ...  1.280e+01  1.281e+01  1.284e+01]\n",
      "  [-9.999e+03 -9.999e+03 -9.999e+03 ...  1.284e+01  1.283e+01  1.288e+01]\n",
      "  ...\n",
      "  [ 4.520e+00  4.550e+00  4.570e+00 ...  1.680e+01  1.693e+01  1.690e+01]\n",
      "  [ 4.490e+00  4.570e+00  4.580e+00 ...  1.691e+01  1.691e+01  1.693e+01]\n",
      "  [ 4.480e+00  4.550e+00  4.570e+00 ...  1.686e+01  1.688e+01  1.690e+01]]]\n"
     ]
    },
    {
     "data": {
      "image/png": "[encoded data removed]",
      "text/plain": [
       "<Figure size 432x288 with 1 Axes>"
      ]
     },
     "metadata": {
      "needs_background": "light"
     },
     "output_type": "display_data"
    },
    {
     "data": {
      "text/plain": [
       "<AxesSubplot:>"
      ]
     },
     "execution_count": 25,
     "metadata": {},
     "output_type": "execute_result"
    }
   ],
   "source": [
    "print(DTM_arr)\n"
   ]
  },
  {
   "cell_type": "code",
   "execution_count": 3,
   "id": "6309f157-34d5-4c7e-b5a0-cf88f989b797",
   "metadata": {},
   "outputs": [
    {
     "name": "stdout",
     "output_type": "stream",
     "text": [
      "Number of bands in image: 1\n",
      "\n"
     ]
    },
    {
     "data": {
      "text/plain": [
       "BoundingBox(left=145000.0, bottom=238000.0, right=162000.0, top=247000.0)"
      ]
     },
     "execution_count": 3,
     "metadata": {},
     "output_type": "execute_result"
    }
   ],
   "source": [
    "DSM_img = rasterio.open('Data/DSM_Data/DHMVIIDSMRAS1m_k01.tif', masked=True)\n",
    "DSM_arr = DSM_img.read()\n",
    "\n",
    "# How many bands does this image have?\n",
    "num_bands = DSM_img.count\n",
    "print('Number of bands in image: {n}\\n'.format(n=num_bands))\n",
    "DSM_img.bounds   \n",
    "# show(DTM_img)"
   ]
  },
  {
   "cell_type": "code",
   "execution_count": 20,
   "id": "bf3811a5-4902-4dec-9475-acc4a657df77",
   "metadata": {},
   "outputs": [
    {
     "data": {
      "text/plain": [
       "Affine(1.0, 0.0, 145000.0,\n",
       "       0.0, -1.0, 247000.0)"
      ]
     },
     "execution_count": 20,
     "metadata": {},
     "output_type": "execute_result"
    }
   ],
   "source": [
    "DSM_img.transform"
   ]
  },
  {
   "cell_type": "code",
   "execution_count": 5,
   "id": "7fe4645e-b7a2-405e-9a3c-15f86f616328",
   "metadata": {},
   "outputs": [
    {
     "name": "stdout",
     "output_type": "stream",
     "text": [
      "-9999.0 33.27\n"
     ]
    },
    {
     "data": {
      "text/plain": [
       "(1, 9000, 17000)"
      ]
     },
     "execution_count": 5,
     "metadata": {},
     "output_type": "execute_result"
    }
   ],
   "source": [
    "print(DTM_arr.min(), DTM_arr.max())\n",
    "DTM_arr.shape"
   ]
  },
  {
   "cell_type": "code",
   "execution_count": 5,
   "id": "6de2bf3d-e65c-4548-acc1-51223af293b2",
   "metadata": {},
   "outputs": [
    {
     "data": {
      "text/plain": [
       "91.4532"
      ]
     },
     "execution_count": 5,
     "metadata": {},
     "output_type": "execute_result"
    }
   ],
   "source": [
    "DBM_arr = DSM_arr - DTM_arr\n",
    "DBM_arr\n",
    "DBM_arr.min()\n",
    "DBM_arr.max()\n",
    "\n"
   ]
  },
  {
   "cell_type": "code",
   "execution_count": 5,
   "id": "0f056c62-7a44-4f73-a83f-6a73b4e430d5",
   "metadata": {},
   "outputs": [
    {
     "data": {
      "text/plain": [
       "(1, 9000, 17000)"
      ]
     },
     "execution_count": 5,
     "metadata": {},
     "output_type": "execute_result"
    }
   ],
   "source": [
    "DBM_arr.shape"
   ]
  },
  {
   "cell_type": "code",
   "execution_count": null,
   "id": "98c7ae21-c8c5-4ac3-8d89-a733270cc903",
   "metadata": {},
   "outputs": [],
   "source": [
    "import pandas as pd\n",
    "df = pd.DataFrame(data=DBM_arr[0])\n",
    "f, ax = plt.subplots()\n",
    "df.plot.hist(color=\"purple\")\n",
    "ax.set(title=\"Distribution of Raster Cell Values in the CHM Data\",\n",
    "       xlabel=\"Height (m)\",\n",
    "       ylabel=\"Number of Pixels\")\n",
    "plt.show()"
   ]
  },
  {
   "cell_type": "code",
   "execution_count": null,
   "id": "fa4b4e46-4b66-427b-a3f1-d8b3536f5f12",
   "metadata": {},
   "outputs": [],
   "source": [
    "# fileDir = os.path.dirname(os.path.realpath('__file__'))\n",
    "# print(fileDir) \n",
    "# with rasterio.open('DSM_Data/DHMVIIDSMRAS1m_k01.tif') as img:   \n",
    "#     # print(img)\n",
    "#     # print(img.width, img.height)     \n",
    "#     show(img)"
   ]
  },
  {
   "cell_type": "code",
   "execution_count": 15,
   "id": "f9c2b591-2463-4460-81a8-e62c89c3032f",
   "metadata": {},
   "outputs": [
    {
     "name": "stdout",
     "output_type": "stream",
     "text": [
      "[14.59]\n"
     ]
    }
   ],
   "source": [
    "# with rasterio.drivers():\n",
    "\n",
    "    # Read raster bands directly to Numpy arrays.\n",
    "    #\n",
    "with rasterio.open('Data/DSM_Data/DHMVIIDSMRAS1m_k01.tif') as src:\n",
    "    x = 800 #(src.bounds.left + src.bounds.right) / 2\n",
    "    y = 16000 #(src.bounds.bottom + src.bounds.top) / 2\n",
    "    for val in src.sample([(x, y)]):\n",
    "        print(val)"
   ]
  }
 ],
 "metadata": {
  "kernelspec": {
   "display_name": "Python 3 (ipykernel)",
   "language": "python",
   "name": "python3"
  },
  "language_info": {
   "codemirror_mode": {
    "name": "ipython",
    "version": 3
   },
   "file_extension": ".py",
   "mimetype": "text/x-python",
   "name": "python",
   "nbconvert_exporter": "python",
   "pygments_lexer": "ipython3",
   "version": "3.8.8"
  }
 },
 "nbformat": 4,
 "nbformat_minor": 5
}
